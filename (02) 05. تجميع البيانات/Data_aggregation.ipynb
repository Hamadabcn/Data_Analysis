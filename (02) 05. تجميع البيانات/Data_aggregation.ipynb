{
 "cells": [
  {
   "cell_type": "code",
   "execution_count": 1,
   "id": "8627430e",
   "metadata": {},
   "outputs": [
    {
     "name": "stdout",
     "output_type": "stream",
     "text": [
      "   Id Gender Country  Amount  Visits\n",
      "0   1      M     KSA    1500       4\n",
      "1   2      M     KSA    2000       5\n",
      "2   3      M     KSA    3000       6\n",
      "3   4      F     KSA    2000       1\n",
      "4   5      F     KSA    1000       2\n",
      "<class 'pandas.core.frame.DataFrame'>\n",
      "RangeIndex: 20 entries, 0 to 19\n",
      "Data columns (total 5 columns):\n",
      " #   Column   Non-Null Count  Dtype \n",
      "---  ------   --------------  ----- \n",
      " 0   Id       20 non-null     int64 \n",
      " 1   Gender   20 non-null     object\n",
      " 2   Country  20 non-null     object\n",
      " 3   Amount   20 non-null     int64 \n",
      " 4   Visits   20 non-null     int64 \n",
      "dtypes: int64(3), object(2)\n",
      "memory usage: 932.0+ bytes\n",
      "None\n"
     ]
    }
   ],
   "source": [
    "import pandas as pd\n",
    "df = pd.read_csv('shopping.csv')\n",
    "print(df.head())\n",
    "print(df.info())"
   ]
  },
  {
   "cell_type": "code",
   "execution_count": 4,
   "id": "51db3c83",
   "metadata": {},
   "outputs": [
    {
     "name": "stdout",
     "output_type": "stream",
     "text": [
      "{'KSA': [0, 1, 2, 3, 4, 5, 6], 'Kuwait': [15, 16, 17, 18, 19], 'UAE': [7, 8, 9, 10, 11, 12, 13, 14]}\n"
     ]
    }
   ],
   "source": [
    "gc = df.groupby('Country')\n",
    "print(gc.groups)"
   ]
  },
  {
   "cell_type": "code",
   "execution_count": 10,
   "id": "aae1d2a9",
   "metadata": {},
   "outputs": [
    {
     "name": "stdout",
     "output_type": "stream",
     "text": [
      "    Id Gender Country  Amount  Visits\n",
      "7    8      M     UAE    3000       6\n",
      "8    9      M     UAE    2000       7\n",
      "9   10      F     UAE    1000       5\n",
      "10  11      M     UAE    1500       3\n",
      "11  12      M     UAE    2000       2\n",
      "12  13      F     UAE    3000       1\n",
      "13  14      M     UAE    2000       2\n",
      "14  15      F     UAE    1000       4\n"
     ]
    }
   ],
   "source": [
    "gc = df.groupby('Country')\n",
    "print(gc.get_group('UAE'))"
   ]
  },
  {
   "cell_type": "code",
   "execution_count": 13,
   "id": "c47f004a",
   "metadata": {},
   "outputs": [
    {
     "name": "stdout",
     "output_type": "stream",
     "text": [
      "('KSA', 'F', 1)\n",
      "   Id Gender Country  Amount  Visits\n",
      "3   4      F     KSA    2000       1\n",
      "('KSA', 'F', 2)\n",
      "   Id Gender Country  Amount  Visits\n",
      "4   5      F     KSA    1000       2\n",
      "('KSA', 'M', 3)\n",
      "   Id Gender Country  Amount  Visits\n",
      "5   6      M     KSA    1500       3\n",
      "('KSA', 'M', 4)\n",
      "   Id Gender Country  Amount  Visits\n",
      "0   1      M     KSA    1500       4\n",
      "6   7      M     KSA    2000       4\n",
      "('KSA', 'M', 5)\n",
      "   Id Gender Country  Amount  Visits\n",
      "1   2      M     KSA    2000       5\n",
      "('KSA', 'M', 6)\n",
      "   Id Gender Country  Amount  Visits\n",
      "2   3      M     KSA    3000       6\n",
      "('Kuwait', 'F', 2)\n",
      "    Id Gender Country  Amount  Visits\n",
      "19  20      F  Kuwait    1000       2\n",
      "('Kuwait', 'F', 3)\n",
      "    Id Gender Country  Amount  Visits\n",
      "18  19      F  Kuwait    2000       3\n",
      "('Kuwait', 'F', 5)\n",
      "    Id Gender Country  Amount  Visits\n",
      "15  16      F  Kuwait    1500       5\n",
      "('Kuwait', 'M', 5)\n",
      "    Id Gender Country  Amount  Visits\n",
      "16  17      M  Kuwait    2000       5\n",
      "('Kuwait', 'M', 6)\n",
      "    Id Gender Country  Amount  Visits\n",
      "17  18      M  Kuwait    3000       6\n",
      "('UAE', 'F', 1)\n",
      "    Id Gender Country  Amount  Visits\n",
      "12  13      F     UAE    3000       1\n",
      "('UAE', 'F', 4)\n",
      "    Id Gender Country  Amount  Visits\n",
      "14  15      F     UAE    1000       4\n",
      "('UAE', 'F', 5)\n",
      "   Id Gender Country  Amount  Visits\n",
      "9  10      F     UAE    1000       5\n",
      "('UAE', 'M', 2)\n",
      "    Id Gender Country  Amount  Visits\n",
      "11  12      M     UAE    2000       2\n",
      "13  14      M     UAE    2000       2\n",
      "('UAE', 'M', 3)\n",
      "    Id Gender Country  Amount  Visits\n",
      "10  11      M     UAE    1500       3\n",
      "('UAE', 'M', 6)\n",
      "   Id Gender Country  Amount  Visits\n",
      "7   8      M     UAE    3000       6\n",
      "('UAE', 'M', 7)\n",
      "   Id Gender Country  Amount  Visits\n",
      "8   9      M     UAE    2000       7\n"
     ]
    }
   ],
   "source": [
    "gc = df.groupby(['Country', 'Gender', 'Visits'])\n",
    "for name, group in gc:\n",
    "    print(name)\n",
    "    print(group)"
   ]
  },
  {
   "cell_type": "code",
   "execution_count": 14,
   "id": "6e860971",
   "metadata": {},
   "outputs": [
    {
     "name": "stdout",
     "output_type": "stream",
     "text": [
      "Country\n",
      "KSA       7\n",
      "Kuwait    5\n",
      "UAE       8\n",
      "Name: Id, dtype: int64\n"
     ]
    }
   ],
   "source": [
    "counts = df.groupby('Country')['Id'].count()\n",
    "print(counts)"
   ]
  },
  {
   "cell_type": "code",
   "execution_count": 18,
   "id": "7347352c",
   "metadata": {},
   "outputs": [
    {
     "name": "stdout",
     "output_type": "stream",
     "text": [
      "Country  Gender\n",
      "KSA      F         2\n",
      "         M         5\n",
      "Kuwait   F         3\n",
      "         M         2\n",
      "UAE      F         3\n",
      "         M         5\n",
      "Name: Id, dtype: int64\n"
     ]
    }
   ],
   "source": [
    "gc = df.groupby(['Country', 'Gender'])['Id'].count()\n",
    "print(gc)"
   ]
  },
  {
   "cell_type": "code",
   "execution_count": 24,
   "id": "6940f5d6",
   "metadata": {},
   "outputs": [
    {
     "name": "stdout",
     "output_type": "stream",
     "text": [
      "Country\n",
      "KSA       1857.142857\n",
      "Kuwait    1900.000000\n",
      "UAE       1937.500000\n",
      "Name: Amount, dtype: float64\n"
     ]
    }
   ],
   "source": [
    "gc = df.groupby(['Country'])['Amount'].agg('mean')\n",
    "print(gc)"
   ]
  },
  {
   "cell_type": "code",
   "execution_count": 27,
   "id": "7bfe3e76",
   "metadata": {},
   "outputs": [
    {
     "name": "stdout",
     "output_type": "stream",
     "text": [
      "         Mean_Amount  Sum_Visits\n",
      "Country                         \n",
      "KSA      1857.142857          25\n",
      "Kuwait   1900.000000          21\n",
      "UAE      1937.500000          30\n"
     ]
    }
   ],
   "source": [
    "gc = df.groupby(['Country']).agg(Mean_Amount=('Amount', 'mean'), Sum_Visits=('Visits', 'sum'))\n",
    "print(gc)"
   ]
  },
  {
   "cell_type": "code",
   "execution_count": 36,
   "id": "23e0fa48",
   "metadata": {},
   "outputs": [
    {
     "data": {
      "text/html": [
       "<div>\n",
       "<style scoped>\n",
       "    .dataframe tbody tr th:only-of-type {\n",
       "        vertical-align: middle;\n",
       "    }\n",
       "\n",
       "    .dataframe tbody tr th {\n",
       "        vertical-align: top;\n",
       "    }\n",
       "\n",
       "    .dataframe thead th {\n",
       "        text-align: right;\n",
       "    }\n",
       "</style>\n",
       "<table border=\"1\" class=\"dataframe\">\n",
       "  <thead>\n",
       "    <tr style=\"text-align: right;\">\n",
       "      <th></th>\n",
       "      <th>Sum_Amount</th>\n",
       "      <th>Sum_Visits</th>\n",
       "    </tr>\n",
       "    <tr>\n",
       "      <th>Country</th>\n",
       "      <th></th>\n",
       "      <th></th>\n",
       "    </tr>\n",
       "  </thead>\n",
       "  <tbody>\n",
       "    <tr>\n",
       "      <th>UAE</th>\n",
       "      <td>15500</td>\n",
       "      <td>30</td>\n",
       "    </tr>\n",
       "    <tr>\n",
       "      <th>KSA</th>\n",
       "      <td>13000</td>\n",
       "      <td>25</td>\n",
       "    </tr>\n",
       "    <tr>\n",
       "      <th>Kuwait</th>\n",
       "      <td>9500</td>\n",
       "      <td>21</td>\n",
       "    </tr>\n",
       "  </tbody>\n",
       "</table>\n",
       "</div>"
      ],
      "text/plain": [
       "         Sum_Amount  Sum_Visits\n",
       "Country                        \n",
       "UAE           15500          30\n",
       "KSA           13000          25\n",
       "Kuwait         9500          21"
      ]
     },
     "execution_count": 36,
     "metadata": {},
     "output_type": "execute_result"
    }
   ],
   "source": [
    "gc = df.groupby(['Country']).agg(Sum_Amount=('Amount', 'sum'), Sum_Visits=('Visits', 'sum'))\n",
    "gc.sort_values(by = ['Sum_Amount'], ascending=False)"
   ]
  }
 ],
 "metadata": {
  "kernelspec": {
   "display_name": "Python 3 (ipykernel)",
   "language": "python",
   "name": "python3"
  },
  "language_info": {
   "codemirror_mode": {
    "name": "ipython",
    "version": 3
   },
   "file_extension": ".py",
   "mimetype": "text/x-python",
   "name": "python",
   "nbconvert_exporter": "python",
   "pygments_lexer": "ipython3",
   "version": "3.11.5"
  }
 },
 "nbformat": 4,
 "nbformat_minor": 5
}
