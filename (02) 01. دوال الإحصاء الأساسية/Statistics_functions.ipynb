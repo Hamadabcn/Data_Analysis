{
 "cells": [
  {
   "cell_type": "code",
   "execution_count": 2,
   "id": "22eef177",
   "metadata": {},
   "outputs": [
    {
     "name": "stdout",
     "output_type": "stream",
     "text": [
      "<class 'pandas.core.frame.DataFrame'>\n",
      "RangeIndex: 12 entries, 0 to 11\n",
      "Data columns (total 1 columns):\n",
      " #   Column  Non-Null Count  Dtype\n",
      "---  ------  --------------  -----\n",
      " 0   Mark    12 non-null     int64\n",
      "dtypes: int64(1)\n",
      "memory usage: 228.0 bytes\n",
      "None\n"
     ]
    }
   ],
   "source": [
    "import pandas as pd\n",
    "\n",
    "df = pd.read_csv('marks.csv')\n",
    "print(df.info())"
   ]
  },
  {
   "cell_type": "code",
   "execution_count": 4,
   "id": "c7e4e471",
   "metadata": {},
   "outputs": [
    {
     "name": "stdout",
     "output_type": "stream",
     "text": [
      "count= 12\n"
     ]
    }
   ],
   "source": [
    "x = df['Mark'].count() # counts all the fields\n",
    "print(\"count=\", x)"
   ]
  },
  {
   "cell_type": "code",
   "execution_count": 5,
   "id": "747d879b",
   "metadata": {},
   "outputs": [
    {
     "name": "stdout",
     "output_type": "stream",
     "text": [
      "mean= 63.0\n"
     ]
    }
   ],
   "source": [
    "x = df['Mark'].mean() # mean is the average\n",
    "print(\"mean=\", x)"
   ]
  },
  {
   "cell_type": "code",
   "execution_count": 6,
   "id": "95e2b80d",
   "metadata": {},
   "outputs": [
    {
     "name": "stdout",
     "output_type": "stream",
     "text": [
      "min= 40\n"
     ]
    }
   ],
   "source": [
    "x = df['Mark'].min() # min is the minimum\n",
    "print(\"min=\", x)"
   ]
  },
  {
   "cell_type": "code",
   "execution_count": 7,
   "id": "f251710e",
   "metadata": {},
   "outputs": [
    {
     "name": "stdout",
     "output_type": "stream",
     "text": [
      "max= 92\n"
     ]
    }
   ],
   "source": [
    "x = df['Mark'].max() # max is the maximum\n",
    "print(\"max=\", x)"
   ]
  },
  {
   "cell_type": "code",
   "execution_count": 8,
   "id": "aeef7985",
   "metadata": {},
   "outputs": [
    {
     "name": "stdout",
     "output_type": "stream",
     "text": [
      "median= 62.5\n"
     ]
    }
   ],
   "source": [
    "x = df['Mark'].median() # median is the middle value when a data set is ordered from least to greatest\n",
    "print(\"median=\", x)"
   ]
  },
  {
   "cell_type": "code",
   "execution_count": 11,
   "id": "54ee2b46",
   "metadata": {},
   "outputs": [
    {
     "name": "stdout",
     "output_type": "stream",
     "text": [
      "%50= 62.5\n"
     ]
    }
   ],
   "source": [
    "x = df['Mark'].quantile(0.5) # Quantiles are values that split sorted data or a probability distribution into equal parts\n",
    "print(\"%50=\", x)"
   ]
  },
  {
   "cell_type": "code",
   "execution_count": 13,
   "id": "fbbee2ab",
   "metadata": {},
   "outputs": [
    {
     "name": "stdout",
     "output_type": "stream",
     "text": [
      "%0.25= 50.0\n"
     ]
    }
   ],
   "source": [
    "x = df['Mark'].quantile(0.25) # Quantiles are values that split sorted data or a probability distribution into equal parts\n",
    "print(\"%0.25=\", x)"
   ]
  },
  {
   "cell_type": "code",
   "execution_count": 14,
   "id": "eb121c9b",
   "metadata": {},
   "outputs": [
    {
     "name": "stdout",
     "output_type": "stream",
     "text": [
      "%0.75= 75.0\n"
     ]
    }
   ],
   "source": [
    "x = df['Mark'].quantile(0.75) # Quantiles are values that split sorted data or a probability distribution into equal parts\n",
    "print(\"%0.75=\", x)"
   ]
  }
 ],
 "metadata": {
  "kernelspec": {
   "display_name": "Python 3 (ipykernel)",
   "language": "python",
   "name": "python3"
  },
  "language_info": {
   "codemirror_mode": {
    "name": "ipython",
    "version": 3
   },
   "file_extension": ".py",
   "mimetype": "text/x-python",
   "name": "python",
   "nbconvert_exporter": "python",
   "pygments_lexer": "ipython3",
   "version": "3.11.5"
  }
 },
 "nbformat": 4,
 "nbformat_minor": 5
}
