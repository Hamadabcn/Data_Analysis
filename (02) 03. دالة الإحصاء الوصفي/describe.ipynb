{
 "cells": [
  {
   "cell_type": "code",
   "execution_count": 2,
   "id": "71c0ec89",
   "metadata": {},
   "outputs": [
    {
     "name": "stdout",
     "output_type": "stream",
     "text": [
      "<class 'pandas.core.frame.DataFrame'>\n",
      "RangeIndex: 10 entries, 0 to 9\n",
      "Data columns (total 2 columns):\n",
      " #   Column  Non-Null Count  Dtype \n",
      "---  ------  --------------  ----- \n",
      " 0   Mark    10 non-null     int64 \n",
      " 1   Grade   10 non-null     object\n",
      "dtypes: int64(1), object(1)\n",
      "memory usage: 292.0+ bytes\n",
      "None\n",
      "count    10.000000\n",
      "mean     50.000000\n",
      "std      19.402176\n",
      "min      20.000000\n",
      "25%      35.000000\n",
      "50%      51.500000\n",
      "75%      62.500000\n",
      "max      80.000000\n",
      "Name: Mark, dtype: float64\n"
     ]
    }
   ],
   "source": [
    "import pandas as pd\n",
    "\n",
    "df = pd.read_csv('results.csv')\n",
    "print(df.info())\n",
    "\n",
    "desc = df[\"Mark\"].describe() # The describe() method returns description of the data in the DataFrame\n",
    "print(desc)"
   ]
  },
  {
   "cell_type": "code",
   "execution_count": 3,
   "id": "e86bc243",
   "metadata": {},
   "outputs": [
    {
     "name": "stdout",
     "output_type": "stream",
     "text": [
      "count     10\n",
      "unique     5\n",
      "top        F\n",
      "freq       3\n",
      "Name: Grade, dtype: object\n"
     ]
    }
   ],
   "source": [
    "desc = df[\"Grade\"].describe() # The describe() method returns description of the data in the DataFrame\n",
    "print(desc)"
   ]
  },
  {
   "cell_type": "code",
   "execution_count": 5,
   "id": "69276c59",
   "metadata": {},
   "outputs": [
    {
     "name": "stdout",
     "output_type": "stream",
     "text": [
      "<class 'pandas.core.frame.DataFrame'>\n",
      "RangeIndex: 10 entries, 0 to 9\n",
      "Data columns (total 2 columns):\n",
      " #   Column  Non-Null Count  Dtype\n",
      "---  ------  --------------  -----\n",
      " 0   Class1  10 non-null     int64\n",
      " 1   Class2  10 non-null     int64\n",
      "dtypes: int64(2)\n",
      "memory usage: 292.0 bytes\n",
      "None\n",
      "          Class1     Class2\n",
      "count  10.000000  10.000000\n",
      "mean   50.000000  62.900000\n",
      "std    19.402176  16.993136\n",
      "min    20.000000  40.000000\n",
      "25%    35.000000  50.000000\n",
      "50%    51.500000  61.000000\n",
      "75%    62.500000  75.000000\n",
      "max    80.000000  90.000000\n"
     ]
    }
   ],
   "source": [
    "df = pd.read_csv('marks2.csv')\n",
    "print(df.info())\n",
    "desc = df.describe()\n",
    "print(desc)"
   ]
  }
 ],
 "metadata": {
  "kernelspec": {
   "display_name": "Python 3 (ipykernel)",
   "language": "python",
   "name": "python3"
  },
  "language_info": {
   "codemirror_mode": {
    "name": "ipython",
    "version": 3
   },
   "file_extension": ".py",
   "mimetype": "text/x-python",
   "name": "python",
   "nbconvert_exporter": "python",
   "pygments_lexer": "ipython3",
   "version": "3.11.5"
  }
 },
 "nbformat": 4,
 "nbformat_minor": 5
}
