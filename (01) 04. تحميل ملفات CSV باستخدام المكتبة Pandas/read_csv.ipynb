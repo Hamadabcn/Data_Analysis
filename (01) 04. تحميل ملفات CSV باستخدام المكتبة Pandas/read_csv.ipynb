{
 "cells": [
  {
   "cell_type": "code",
   "execution_count": 1,
   "id": "164729f1",
   "metadata": {},
   "outputs": [
    {
     "name": "stdout",
     "output_type": "stream",
     "text": [
      "   Id  SepalLengthCm  SepalWidthCm  PetalLengthCm  PetalWidthCm      Species\n",
      "0   1            5.1           3.5            1.4           0.2  Iris-setosa\n",
      "1   2            4.9           3.0            1.4           0.2  Iris-setosa\n",
      "2   3            4.7           3.2            1.3           0.2  Iris-setosa\n",
      "3   4            4.6           3.1            1.5           0.2  Iris-setosa\n",
      "4   5            5.0           3.6            1.4           0.2  Iris-setosa\n"
     ]
    }
   ],
   "source": [
    "import pandas as pd\n",
    "\n",
    "df = pd.read_csv(\"iris.csv\")\n",
    "print(df.head())"
   ]
  },
  {
   "cell_type": "code",
   "execution_count": 5,
   "id": "c5feb0e2",
   "metadata": {},
   "outputs": [
    {
     "name": "stdout",
     "output_type": "stream",
     "text": [
      "   Id  SepalLengthCm  SepalWidthCm  PetalLengthCm  PetalWidthCm        Species\n",
      "0   1            5.1           3.5            1.4           0.2  'Iris,setosa'\n",
      "1   2            4.9           3.0            1.4           0.2  'Iris-setosa'\n",
      "2   3            4.7           3.2            1.3           0.2    Iris-setosa\n",
      "3   4            4.6           3.1            1.5           0.2    Iris-setosa\n",
      "4   5            5.0           3.6            1.4           0.2    Iris-setosa\n"
     ]
    }
   ],
   "source": [
    "import pandas as pd\n",
    "\n",
    "df = pd.read_csv(\"Iris-bis.csv\",\n",
    "                sep=';',\n",
    "                comment='#',\n",
    "                quotechar='/'\n",
    "                )\n",
    "print(df.head())"
   ]
  },
  {
   "cell_type": "code",
   "execution_count": 6,
   "id": "1f132a65",
   "metadata": {},
   "outputs": [
    {
     "name": "stdout",
     "output_type": "stream",
     "text": [
      "(150, 6)\n"
     ]
    }
   ],
   "source": [
    "print(df.shape)"
   ]
  },
  {
   "cell_type": "code",
   "execution_count": 7,
   "id": "f7e97e61",
   "metadata": {},
   "outputs": [
    {
     "name": "stdout",
     "output_type": "stream",
     "text": [
      "<class 'pandas.core.frame.DataFrame'>\n",
      "RangeIndex: 150 entries, 0 to 149\n",
      "Data columns (total 6 columns):\n",
      " #   Column         Non-Null Count  Dtype  \n",
      "---  ------         --------------  -----  \n",
      " 0   Id             150 non-null    int64  \n",
      " 1   SepalLengthCm  150 non-null    float64\n",
      " 2   SepalWidthCm   150 non-null    float64\n",
      " 3   PetalLengthCm  150 non-null    float64\n",
      " 4   PetalWidthCm   150 non-null    float64\n",
      " 5   Species        150 non-null    object \n",
      "dtypes: float64(4), int64(1), object(1)\n",
      "memory usage: 7.2+ KB\n",
      "None\n"
     ]
    }
   ],
   "source": [
    "print(df.info())"
   ]
  },
  {
   "cell_type": "code",
   "execution_count": 8,
   "id": "ecda2080",
   "metadata": {},
   "outputs": [
    {
     "name": "stdout",
     "output_type": "stream",
     "text": [
      "   Id  SepalLengthCm  SepalWidthCm  PetalLengthCm  PetalWidthCm        Species\n",
      "0   1            5.1           3.5            1.4           0.2  'Iris,setosa'\n",
      "1   2            4.9           3.0            1.4           0.2  'Iris-setosa'\n",
      "2   3            4.7           3.2            1.3           0.2    Iris-setosa\n",
      "3   4            4.6           3.1            1.5           0.2    Iris-setosa\n",
      "4   5            5.0           3.6            1.4           0.2    Iris-setosa\n"
     ]
    }
   ],
   "source": [
    "print(df.head())"
   ]
  },
  {
   "cell_type": "code",
   "execution_count": 9,
   "id": "cc79f514",
   "metadata": {},
   "outputs": [
    {
     "name": "stdout",
     "output_type": "stream",
     "text": [
      "   Id  SepalLengthCm  SepalWidthCm  PetalLengthCm  PetalWidthCm        Species\n",
      "0   1            5.1           3.5            1.4           0.2  'Iris,setosa'\n",
      "1   2            4.9           3.0            1.4           0.2  'Iris-setosa'\n",
      "2   3            4.7           3.2            1.3           0.2    Iris-setosa\n",
      "3   4            4.6           3.1            1.5           0.2    Iris-setosa\n",
      "4   5            5.0           3.6            1.4           0.2    Iris-setosa\n",
      "5   6            5.4           3.9            1.7           0.4    Iris-setosa\n",
      "6   7            4.6           3.4            1.4           0.3    Iris-setosa\n",
      "7   8            5.0           3.4            1.5           0.2    Iris-setosa\n",
      "8   9            4.4           2.9            1.4           0.2    Iris-setosa\n",
      "9  10            4.9           3.1            1.5           0.1    Iris-setosa\n"
     ]
    }
   ],
   "source": [
    "print(df.head(10))"
   ]
  },
  {
   "cell_type": "code",
   "execution_count": 11,
   "id": "57441630",
   "metadata": {},
   "outputs": [
    {
     "name": "stdout",
     "output_type": "stream",
     "text": [
      "      Id  SepalLengthCm  SepalWidthCm  PetalLengthCm  PetalWidthCm  \\\n",
      "140  141            6.7           3.1            5.6           2.4   \n",
      "141  142            6.9           3.1            5.1           2.3   \n",
      "142  143            5.8           2.7            5.1           1.9   \n",
      "143  144            6.8           3.2            5.9           2.3   \n",
      "144  145            6.7           3.3            5.7           2.5   \n",
      "145  146            6.7           3.0            5.2           2.3   \n",
      "146  147            6.3           2.5            5.0           1.9   \n",
      "147  148            6.5           3.0            5.2           2.0   \n",
      "148  149            6.2           3.4            5.4           2.3   \n",
      "149  150            5.9           3.0            5.1           1.8   \n",
      "\n",
      "            Species  \n",
      "140  Iris-virginica  \n",
      "141  Iris-virginica  \n",
      "142  Iris-virginica  \n",
      "143  Iris-virginica  \n",
      "144  Iris-virginica  \n",
      "145  Iris-virginica  \n",
      "146  Iris-virginica  \n",
      "147  Iris-virginica  \n",
      "148  Iris-virginica  \n",
      "149  Iris-virginica  \n"
     ]
    }
   ],
   "source": [
    "print(df.tail(10))"
   ]
  },
  {
   "cell_type": "code",
   "execution_count": 14,
   "id": "6a9d2784",
   "metadata": {},
   "outputs": [
    {
     "name": "stdout",
     "output_type": "stream",
     "text": [
      "(768, 9)\n",
      "   A    B   C   D    E     F      G   H  Class\n",
      "0  6  148  72  35    0  33.6  0.627  50      1\n",
      "1  1   85  66  29    0  26.6  0.351  31      0\n",
      "2  8  183  64   0    0  23.3  0.672  32      1\n",
      "3  1   89  66  23   94  28.1  0.167  21      0\n",
      "4  0  137  40  35  168  43.1  2.288  33      1\n"
     ]
    }
   ],
   "source": [
    "path = \"diabetes.csv\"\n",
    "header_names=['A', 'B', 'C', 'D', 'E', 'F', 'G', 'H', 'Class']\n",
    "df = pd.read_csv(path, names=header_names)\n",
    "print(df.shape)\n",
    "print(df.head())"
   ]
  }
 ],
 "metadata": {
  "kernelspec": {
   "display_name": "Python 3 (ipykernel)",
   "language": "python",
   "name": "python3"
  },
  "language_info": {
   "codemirror_mode": {
    "name": "ipython",
    "version": 3
   },
   "file_extension": ".py",
   "mimetype": "text/x-python",
   "name": "python",
   "nbconvert_exporter": "python",
   "pygments_lexer": "ipython3",
   "version": "3.11.5"
  }
 },
 "nbformat": 4,
 "nbformat_minor": 5
}
