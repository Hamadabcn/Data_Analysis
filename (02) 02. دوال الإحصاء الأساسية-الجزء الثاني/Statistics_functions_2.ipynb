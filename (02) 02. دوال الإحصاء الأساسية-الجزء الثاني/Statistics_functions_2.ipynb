{
 "cells": [
  {
   "cell_type": "code",
   "execution_count": 3,
   "id": "1a8dfd1c",
   "metadata": {},
   "outputs": [
    {
     "name": "stdout",
     "output_type": "stream",
     "text": [
      "<class 'pandas.core.frame.DataFrame'>\n",
      "RangeIndex: 12 entries, 0 to 11\n",
      "Data columns (total 1 columns):\n",
      " #   Column  Non-Null Count  Dtype\n",
      "---  ------  --------------  -----\n",
      " 0   Mark    12 non-null     int64\n",
      "dtypes: int64(1)\n",
      "memory usage: 228.0 bytes\n"
     ]
    }
   ],
   "source": [
    "import pandas as pd\n",
    "\n",
    "df = pd.read_csv('marks.csv')\n",
    "#df.info()"
   ]
  },
  {
   "cell_type": "code",
   "execution_count": 4,
   "id": "b28f2e81",
   "metadata": {},
   "outputs": [
    {
     "name": "stdout",
     "output_type": "stream",
     "text": [
      "std= Mark    15.736466\n",
      "dtype: float64\n"
     ]
    }
   ],
   "source": [
    "x = df.std() # std(), used to compute the standard deviation along the specified axis\n",
    "print(\"std=\", x)"
   ]
  },
  {
   "cell_type": "code",
   "execution_count": 5,
   "id": "82eda86d",
   "metadata": {},
   "outputs": [
    {
     "name": "stdout",
     "output_type": "stream",
     "text": [
      "mode=    Mark\n",
      "0    50\n",
      "1    75\n"
     ]
    }
   ],
   "source": [
    "x = df.mode() # The mode is the value that appears most frequently in a dataset\n",
    "print(\"mode=\", x)"
   ]
  },
  {
   "cell_type": "code",
   "execution_count": 14,
   "id": "7bb4c2b0",
   "metadata": {},
   "outputs": [
    {
     "data": {
      "text/html": [
       "<div>\n",
       "<style scoped>\n",
       "    .dataframe tbody tr th:only-of-type {\n",
       "        vertical-align: middle;\n",
       "    }\n",
       "\n",
       "    .dataframe tbody tr th {\n",
       "        vertical-align: top;\n",
       "    }\n",
       "\n",
       "    .dataframe thead th {\n",
       "        text-align: right;\n",
       "    }\n",
       "</style>\n",
       "<table border=\"1\" class=\"dataframe\">\n",
       "  <thead>\n",
       "    <tr style=\"text-align: right;\">\n",
       "      <th></th>\n",
       "      <th>Stat</th>\n",
       "      <th>Class1</th>\n",
       "      <th>Class2</th>\n",
       "    </tr>\n",
       "  </thead>\n",
       "  <tbody>\n",
       "    <tr>\n",
       "      <th>0</th>\n",
       "      <td>count</td>\n",
       "      <td>10</td>\n",
       "      <td>10</td>\n",
       "    </tr>\n",
       "    <tr>\n",
       "      <th>1</th>\n",
       "      <td>MIN</td>\n",
       "      <td>20</td>\n",
       "      <td>40</td>\n",
       "    </tr>\n",
       "    <tr>\n",
       "      <th>2</th>\n",
       "      <td>MAX</td>\n",
       "      <td>80</td>\n",
       "      <td>90</td>\n",
       "    </tr>\n",
       "    <tr>\n",
       "      <th>3</th>\n",
       "      <td>Mean</td>\n",
       "      <td>50.0</td>\n",
       "      <td>62.9</td>\n",
       "    </tr>\n",
       "    <tr>\n",
       "      <th>4</th>\n",
       "      <td>Median</td>\n",
       "      <td>51.5</td>\n",
       "      <td>61.0</td>\n",
       "    </tr>\n",
       "    <tr>\n",
       "      <th>5</th>\n",
       "      <td>std</td>\n",
       "      <td>19.402176</td>\n",
       "      <td>16.993136</td>\n",
       "    </tr>\n",
       "    <tr>\n",
       "      <th>6</th>\n",
       "      <td>Mode</td>\n",
       "      <td>50</td>\n",
       "      <td>50</td>\n",
       "    </tr>\n",
       "  </tbody>\n",
       "</table>\n",
       "</div>"
      ],
      "text/plain": [
       "     Stat     Class1     Class2\n",
       "0   count         10         10\n",
       "1     MIN         20         40\n",
       "2     MAX         80         90\n",
       "3    Mean       50.0       62.9\n",
       "4  Median       51.5       61.0\n",
       "5     std  19.402176  16.993136\n",
       "6    Mode         50         50"
      ]
     },
     "execution_count": 14,
     "metadata": {},
     "output_type": "execute_result"
    }
   ],
   "source": [
    "import pandas as pd\n",
    "\n",
    "# Read the CSV file into a DataFrame\n",
    "df = pd.read_csv('marks2.csv')\n",
    "\n",
    "# Initialize an empty DataFrame to store summary statistics\n",
    "dfstat = pd.DataFrame(columns=['Stat', 'Class1', 'Class2'])\n",
    "\n",
    "# Number of values\n",
    "x = df['Class1'].count()\n",
    "y = df['Class2'].count()\n",
    "row = {'Stat': 'count', 'Class1': x, 'Class2': y}\n",
    "dfstat = pd.concat([dfstat, pd.DataFrame([row])], ignore_index=True)\n",
    "\n",
    "# Minimum value\n",
    "x = df['Class1'].min()\n",
    "y = df['Class2'].min()\n",
    "row = {'Stat': 'MIN', 'Class1': x, 'Class2': y}\n",
    "dfstat = pd.concat([dfstat, pd.DataFrame([row])], ignore_index=True)\n",
    "\n",
    "# Maximum value\n",
    "x = df['Class1'].max()\n",
    "y = df['Class2'].max()\n",
    "row = {'Stat': 'MAX', 'Class1': x, 'Class2': y}\n",
    "dfstat = pd.concat([dfstat, pd.DataFrame([row])], ignore_index=True)\n",
    "\n",
    "# Mean\n",
    "x = df['Class1'].mean()\n",
    "y = df['Class2'].mean()\n",
    "row = {'Stat': 'Mean', 'Class1': x, 'Class2': y}\n",
    "dfstat = pd.concat([dfstat, pd.DataFrame([row])], ignore_index=True)\n",
    "\n",
    "# Median\n",
    "x = df['Class1'].median()\n",
    "y = df['Class2'].median()\n",
    "row = {'Stat': 'Median', 'Class1': x, 'Class2': y}\n",
    "dfstat = pd.concat([dfstat, pd.DataFrame([row])], ignore_index=True)\n",
    "\n",
    "# Standard deviation\n",
    "x = df['Class1'].std()\n",
    "y = df['Class2'].std()\n",
    "row = {'Stat': 'std', 'Class1': x, 'Class2': y}\n",
    "dfstat = pd.concat([dfstat, pd.DataFrame([row])], ignore_index=True)\n",
    "\n",
    "# Mode\n",
    "x = df['Class1'].mode()[0]  # Mode returns a Series, so we need to get the first element\n",
    "y = df['Class2'].mode()[0]\n",
    "row = {'Stat': 'Mode', 'Class1': x, 'Class2': y}\n",
    "dfstat = pd.concat([dfstat, pd.DataFrame([row])], ignore_index=True)\n",
    "\n",
    "dfstat\n"
   ]
  }
 ],
 "metadata": {
  "kernelspec": {
   "display_name": "Python 3 (ipykernel)",
   "language": "python",
   "name": "python3"
  },
  "language_info": {
   "codemirror_mode": {
    "name": "ipython",
    "version": 3
   },
   "file_extension": ".py",
   "mimetype": "text/x-python",
   "name": "python",
   "nbconvert_exporter": "python",
   "pygments_lexer": "ipython3",
   "version": "3.11.5"
  }
 },
 "nbformat": 4,
 "nbformat_minor": 5
}
