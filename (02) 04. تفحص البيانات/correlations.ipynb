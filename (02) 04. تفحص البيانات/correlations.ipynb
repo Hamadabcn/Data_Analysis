{
 "cells": [
  {
   "cell_type": "code",
   "execution_count": 2,
   "id": "64780c0c",
   "metadata": {},
   "outputs": [
    {
     "name": "stdout",
     "output_type": "stream",
     "text": [
      "   Id  Math  Phy  Lang Pass\n",
      "0   1    30   40    80   No\n",
      "1   2    60   65    45  Yes\n",
      "2   3    35   40    70   No\n",
      "3   4    70   75    50  Yes\n",
      "4   5    80   80    40  Yes\n"
     ]
    }
   ],
   "source": [
    "import pandas as pd\n",
    "df = pd.read_csv('stdMarks.csv')\n",
    "print(df.head())"
   ]
  },
  {
   "cell_type": "code",
   "execution_count": 3,
   "id": "9d293346",
   "metadata": {},
   "outputs": [
    {
     "name": "stdout",
     "output_type": "stream",
     "text": [
      "          Math       Phy      Lang\n",
      "Math  1.000000  0.970892 -0.328193\n",
      "Phy   0.970892  1.000000 -0.386725\n",
      "Lang -0.328193 -0.386725  1.000000\n"
     ]
    }
   ],
   "source": [
    "dfcorrel = df[['Math', 'Phy', 'Lang']]\n",
    "correlations = dfcorrel.corr(method='pearson')\n",
    "print(correlations)"
   ]
  },
  {
   "cell_type": "code",
   "execution_count": 4,
   "id": "22c6277a",
   "metadata": {},
   "outputs": [
    {
     "name": "stdout",
     "output_type": "stream",
     "text": [
      "Pass\n",
      "No     5\n",
      "Yes    5\n",
      "dtype: int64\n"
     ]
    }
   ],
   "source": [
    "count_class = df.groupby('Pass').size()\n",
    "print(count_class)"
   ]
  }
 ],
 "metadata": {
  "kernelspec": {
   "display_name": "Python 3 (ipykernel)",
   "language": "python",
   "name": "python3"
  },
  "language_info": {
   "codemirror_mode": {
    "name": "ipython",
    "version": 3
   },
   "file_extension": ".py",
   "mimetype": "text/x-python",
   "name": "python",
   "nbconvert_exporter": "python",
   "pygments_lexer": "ipython3",
   "version": "3.11.5"
  }
 },
 "nbformat": 4,
 "nbformat_minor": 5
}
